{
 "cells": [
  {
   "cell_type": "markdown",
   "id": "310bf86a",
   "metadata": {},
   "source": [
    "# Asumptions of the Logistic Regression"
   ]
  },
  {
   "cell_type": "code",
   "execution_count": null,
   "id": "10d846bb",
   "metadata": {
    "vscode": {
     "languageId": "plaintext"
    }
   },
   "outputs": [],
   "source": [
    "import pandas as pd\n",
    "import numpy as np\n",
    "import matplotlib.pyplot as plt\n",
    "import seaborn as sns\n",
    "from sklearn.linear_model import LogisticRegression\n",
    "from sklearn.preprocessing import LabelEncoder"
   ]
  },
  {
   "cell_type": "markdown",
   "id": "a6c4d064",
   "metadata": {},
   "source": [
    "Examples Using the German Credit Dataset"
   ]
  },
  {
   "cell_type": "markdown",
   "id": "14ea4538",
   "metadata": {},
   "source": [
    "- 1. Linearity between Independent Variables and the Log-Odds\n",
    "\n",
    "There should be a linear relationship between each continuous independent variable and the log-odds of the dependent variable"
   ]
  },
  {
   "cell_type": "markdown",
   "id": "6c94416a",
   "metadata": {},
   "source": []
  }
 ],
 "metadata": {
  "language_info": {
   "name": "python"
  }
 },
 "nbformat": 4,
 "nbformat_minor": 5
}
